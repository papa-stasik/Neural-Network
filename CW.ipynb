{
 "cells": [
  {
   "cell_type": "markdown",
   "metadata": {},
   "source": [
    "# Introduction"
   ]
  },
  {
   "cell_type": "markdown",
   "metadata": {},
   "source": [
    "In this dataset I will employ a series of neural network models to predict the price of a used vehicle. The dataset used in this report has been sourced from Kaggle [1] and had originally contained exactly 3 million vehicles with 66 features. The original file is just under 10GB and as such I had sampled a small portion of this for the purposes of this project. The main objective of the project is to predict a numerical value, as such this is a regression task. All processing steps have been included below which involved downloading the file and selecting a small sample to work with.\n",
    "\n",
    "\n",
    "#### Objectives\n",
    "1. Sample the original dataset.\n",
    "2. Pre-process the dataset - remove duplicates, transform data types.\n",
    "3. Process the dataset - encode categorical data, apply feature scaling.\n",
    "4. Test a series of models for hyperparameter selection.\n",
    "5. Apply k-fold validation to select optimal epoch.\n",
    "6. Train final tuned model and evaulate/predict the test set.\n",
    "\n",
    "\n",
    "#### Aims\n",
    "1. Develope a balanced model with low bias and low variance to accurately predict used vehicle prices."
   ]
  },
  {
   "cell_type": "markdown",
   "metadata": {},
   "source": [
    "### Problem Definition\n",
    "\n",
    "###### What will the input data be?\n",
    "A large number of features such as milage, make, model and horsepower, 26 features to be exact.\n",
    "\n",
    "###### What will the output data be?\n",
    "The dependant variable is the price of a vehicle.\n",
    "\n",
    "###### Is the data complex enough to predict target variable?\n",
    "The original dataset contains 66 features which in my opinon is complex enough for this task. \n",
    "\n",
    "###### What is the problem domain?\n",
    "This is a regression task to predict the value of a vehicle given a number of features.\n",
    "\n",
    "###### What is the measure of success?\n",
    "The Mean Absolute Error value will be monitored for this regression task. "
   ]
  },
  {
   "cell_type": "markdown",
   "metadata": {},
   "source": [
    "## Pre-Processing the Dataset  - Part 1\n",
    "\n",
    "### Sample and Feature Selection"
   ]
  },
  {
   "cell_type": "markdown",
   "metadata": {},
   "source": [
    "In this section I will download the data and select the features I with to work with before applying rudimentary checks for duplicates, missing values and data type transformation."
   ]
  },
  {
   "cell_type": "code",
   "execution_count": 1,
   "metadata": {},
   "outputs": [],
   "source": [
    "# Importing necessary libraries.\n",
    "import pandas as pd\n",
    "import numpy as np\n",
    "from matplotlib import pyplot as plt\n",
    "from sklearn.preprocessing import MinMaxScaler\n",
    "import tensorflow as tf\n",
    "from tensorflow.keras import models, layers, regularizers\n",
    "from sklearn.model_selection import train_test_split\n",
    "import seaborn as sns\n",
    "import re"
   ]
  },
  {
   "cell_type": "code",
   "execution_count": 2,
   "metadata": {},
   "outputs": [],
   "source": [
    "# Loading a sample of 20,000 rows from the entire dataset.\n",
    "\n",
    "original_df = pd.read_csv('used_cars_data.csv', low_memory=False, nrows=20000)"
   ]
  },
  {
   "cell_type": "code",
   "execution_count": 3,
   "metadata": {},
   "outputs": [
    {
     "name": "stdout",
     "output_type": "stream",
     "text": [
      "<class 'pandas.core.frame.DataFrame'>\n",
      "RangeIndex: 20000 entries, 0 to 19999\n",
      "Data columns (total 66 columns):\n",
      " #   Column                   Non-Null Count  Dtype  \n",
      "---  ------                   --------------  -----  \n",
      " 0   vin                      20000 non-null  object \n",
      " 1   back_legroom             18807 non-null  object \n",
      " 2   bed                      187 non-null    object \n",
      " 3   bed_height               1396 non-null   object \n",
      " 4   bed_length               1396 non-null   object \n",
      " 5   body_type                19922 non-null  object \n",
      " 6   cabin                    191 non-null    object \n",
      " 7   city                     20000 non-null  object \n",
      " 8   city_fuel_economy        16836 non-null  float64\n",
      " 9   combine_fuel_economy     0 non-null      float64\n",
      " 10  daysonmarket             20000 non-null  int64  \n",
      " 11  dealer_zip               20000 non-null  int64  \n",
      " 12  description              19574 non-null  object \n",
      " 13  engine_cylinders         19366 non-null  object \n",
      " 14  engine_displacement      18708 non-null  float64\n",
      " 15  engine_type              19366 non-null  object \n",
      " 16  exterior_color           20000 non-null  object \n",
      " 17  fleet                    12954 non-null  object \n",
      " 18  frame_damaged            12954 non-null  object \n",
      " 19  franchise_dealer         20000 non-null  bool   \n",
      " 20  franchise_make           13954 non-null  object \n",
      " 21  front_legroom            18807 non-null  object \n",
      " 22  fuel_tank_volume         18807 non-null  object \n",
      " 23  fuel_type                19443 non-null  object \n",
      " 24  has_accidents            12954 non-null  object \n",
      " 25  height                   18807 non-null  object \n",
      " 26  highway_fuel_economy     16836 non-null  float64\n",
      " 27  horsepower               18708 non-null  float64\n",
      " 28  interior_color           20000 non-null  object \n",
      " 29  isCab                    12954 non-null  object \n",
      " 30  is_certified             0 non-null      float64\n",
      " 31  is_cpo                   1920 non-null   object \n",
      " 32  is_new                   20000 non-null  bool   \n",
      " 33  is_oemcpo                1534 non-null   object \n",
      " 34  latitude                 20000 non-null  float64\n",
      " 35  length                   18807 non-null  object \n",
      " 36  listed_date              20000 non-null  object \n",
      " 37  listing_color            20000 non-null  object \n",
      " 38  listing_id               20000 non-null  int64  \n",
      " 39  longitude                20000 non-null  float64\n",
      " 40  main_picture_url         16968 non-null  object \n",
      " 41  major_options            18863 non-null  object \n",
      " 42  make_name                20000 non-null  object \n",
      " 43  maximum_seating          18807 non-null  object \n",
      " 44  mileage                  19456 non-null  float64\n",
      " 45  model_name               20000 non-null  object \n",
      " 46  owner_count              12152 non-null  float64\n",
      " 47  power                    17079 non-null  object \n",
      " 48  price                    20000 non-null  float64\n",
      " 49  salvage                  12954 non-null  object \n",
      " 50  savings_amount           20000 non-null  int64  \n",
      " 51  seller_rating            19967 non-null  float64\n",
      " 52  sp_id                    20000 non-null  int64  \n",
      " 53  sp_name                  20000 non-null  object \n",
      " 54  theft_title              12954 non-null  object \n",
      " 55  torque                   16859 non-null  object \n",
      " 56  transmission             19764 non-null  object \n",
      " 57  transmission_display     19764 non-null  object \n",
      " 58  trimId                   19027 non-null  object \n",
      " 59  trim_name                19022 non-null  object \n",
      " 60  vehicle_damage_category  0 non-null      float64\n",
      " 61  wheel_system             18862 non-null  object \n",
      " 62  wheel_system_display     18862 non-null  object \n",
      " 63  wheelbase                18807 non-null  object \n",
      " 64  width                    18807 non-null  object \n",
      " 65  year                     20000 non-null  int64  \n",
      "dtypes: bool(2), float64(13), int64(6), object(45)\n",
      "memory usage: 9.8+ MB\n"
     ]
    }
   ],
   "source": [
    "# Examine all columns in the dataset.\n",
    "\n",
    "original_df.info()"
   ]
  },
  {
   "cell_type": "markdown",
   "metadata": {},
   "source": [
    "There are exactly 66 features contained in this dataset, some of which I feel will not contribute to the regression model. I will apply feature engineering and remove some columns which I feel are useless, such as 'bed, 'main picture url' and 'longitute'. All removed features were checked against the original dataset descriptions on Kaggle to confirm my decisions. "
   ]
  },
  {
   "cell_type": "code",
   "execution_count": 4,
   "metadata": {},
   "outputs": [],
   "source": [
    "# Selecting only the features with which to work with and saving to a new dataframe.\n",
    "\n",
    "cars_df = original_df[['back_legroom', 'body_type', 'city_fuel_economy', 'engine_displacement', 'engine_type', \n",
    "                       'exterior_color', 'front_legroom', 'fuel_tank_volume', 'fuel_type', 'height', 'highway_fuel_economy',\n",
    "                       'horsepower', 'interior_color', 'make_name', 'maximum_seating', 'mileage', 'model_name', \n",
    "                       'owner_count', 'power', 'torque', 'transmission', 'trimId', 'wheel_system', 'wheelbase', 'width', \n",
    "                       'year', 'price']]"
   ]
  },
  {
   "cell_type": "markdown",
   "metadata": {},
   "source": [
    "### Data Type Transformation"
   ]
  },
  {
   "cell_type": "markdown",
   "metadata": {},
   "source": [
    "The dataset contains 27 features, 7 of which should be of the data types floats or integer yet are objects due to non-numeric characters present in the entry. Examples of this are 'height' and 'back_legroom'. These data types must be processed into their respective logical forms before data scaling may be applied."
   ]
  },
  {
   "cell_type": "code",
   "execution_count": 9,
   "metadata": {},
   "outputs": [
    {
     "name": "stdout",
     "output_type": "stream",
     "text": [
      "<class 'pandas.core.frame.DataFrame'>\n",
      "RangeIndex: 20000 entries, 0 to 19999\n",
      "Data columns (total 27 columns):\n",
      " #   Column                Non-Null Count  Dtype  \n",
      "---  ------                --------------  -----  \n",
      " 0   back_legroom          18807 non-null  object \n",
      " 1   body_type             19922 non-null  object \n",
      " 2   city_fuel_economy     16836 non-null  float64\n",
      " 3   engine_displacement   18708 non-null  float64\n",
      " 4   engine_type           19366 non-null  object \n",
      " 5   exterior_color        20000 non-null  object \n",
      " 6   front_legroom         18807 non-null  object \n",
      " 7   fuel_tank_volume      18807 non-null  object \n",
      " 8   fuel_type             19443 non-null  object \n",
      " 9   height                18807 non-null  object \n",
      " 10  highway_fuel_economy  16836 non-null  float64\n",
      " 11  horsepower            18708 non-null  float64\n",
      " 12  interior_color        20000 non-null  object \n",
      " 13  make_name             20000 non-null  object \n",
      " 14  maximum_seating       18807 non-null  object \n",
      " 15  mileage               19456 non-null  float64\n",
      " 16  model_name            20000 non-null  object \n",
      " 17  owner_count           12152 non-null  float64\n",
      " 18  power                 17079 non-null  object \n",
      " 19  torque                16859 non-null  object \n",
      " 20  transmission          19764 non-null  object \n",
      " 21  trimId                19027 non-null  object \n",
      " 22  wheel_system          18862 non-null  object \n",
      " 23  wheelbase             18807 non-null  object \n",
      " 24  width                 18807 non-null  object \n",
      " 25  year                  20000 non-null  int64  \n",
      " 26  price                 20000 non-null  float64\n",
      "dtypes: float64(7), int64(1), object(19)\n",
      "memory usage: 4.1+ MB\n"
     ]
    }
   ],
   "source": [
    "# Observe feature columns and data type. Most features are of incorrect dtype and require processing.\n",
    "\n",
    "cars_df.info()"
   ]
  },
  {
   "cell_type": "code",
   "execution_count": 6,
   "metadata": {
    "scrolled": true
   },
   "outputs": [
    {
     "data": {
      "text/html": [
       "<div>\n",
       "<style scoped>\n",
       "    .dataframe tbody tr th:only-of-type {\n",
       "        vertical-align: middle;\n",
       "    }\n",
       "\n",
       "    .dataframe tbody tr th {\n",
       "        vertical-align: top;\n",
       "    }\n",
       "\n",
       "    .dataframe thead th {\n",
       "        text-align: right;\n",
       "    }\n",
       "</style>\n",
       "<table border=\"1\" class=\"dataframe\">\n",
       "  <thead>\n",
       "    <tr style=\"text-align: right;\">\n",
       "      <th></th>\n",
       "      <th>back_legroom</th>\n",
       "      <th>front_legroom</th>\n",
       "      <th>height</th>\n",
       "      <th>maximum_seating</th>\n",
       "      <th>wheelbase</th>\n",
       "      <th>width</th>\n",
       "      <th>fuel_tank_volume</th>\n",
       "    </tr>\n",
       "  </thead>\n",
       "  <tbody>\n",
       "    <tr>\n",
       "      <th>0</th>\n",
       "      <td>35.1 in</td>\n",
       "      <td>41.2 in</td>\n",
       "      <td>66.5 in</td>\n",
       "      <td>5 seats</td>\n",
       "      <td>101.2 in</td>\n",
       "      <td>79.6 in</td>\n",
       "      <td>12.7 gal</td>\n",
       "    </tr>\n",
       "    <tr>\n",
       "      <th>1</th>\n",
       "      <td>38.1 in</td>\n",
       "      <td>39.1 in</td>\n",
       "      <td>68 in</td>\n",
       "      <td>7 seats</td>\n",
       "      <td>107.9 in</td>\n",
       "      <td>85.6 in</td>\n",
       "      <td>17.7 gal</td>\n",
       "    </tr>\n",
       "    <tr>\n",
       "      <th>2</th>\n",
       "      <td>35.4 in</td>\n",
       "      <td>43.3 in</td>\n",
       "      <td>58.1 in</td>\n",
       "      <td>5 seats</td>\n",
       "      <td>104.3 in</td>\n",
       "      <td>78.9 in</td>\n",
       "      <td>15.9 gal</td>\n",
       "    </tr>\n",
       "    <tr>\n",
       "      <th>3</th>\n",
       "      <td>37.6 in</td>\n",
       "      <td>39 in</td>\n",
       "      <td>73 in</td>\n",
       "      <td>7 seats</td>\n",
       "      <td>115 in</td>\n",
       "      <td>87.4 in</td>\n",
       "      <td>23.5 gal</td>\n",
       "    </tr>\n",
       "    <tr>\n",
       "      <th>4</th>\n",
       "      <td>38.1 in</td>\n",
       "      <td>39.1 in</td>\n",
       "      <td>68 in</td>\n",
       "      <td>7 seats</td>\n",
       "      <td>107.9 in</td>\n",
       "      <td>85.6 in</td>\n",
       "      <td>17.7 gal</td>\n",
       "    </tr>\n",
       "  </tbody>\n",
       "</table>\n",
       "</div>"
      ],
      "text/plain": [
       "  back_legroom front_legroom   height maximum_seating wheelbase    width  \\\n",
       "0      35.1 in       41.2 in  66.5 in         5 seats  101.2 in  79.6 in   \n",
       "1      38.1 in       39.1 in    68 in         7 seats  107.9 in  85.6 in   \n",
       "2      35.4 in       43.3 in  58.1 in         5 seats  104.3 in  78.9 in   \n",
       "3      37.6 in         39 in    73 in         7 seats    115 in  87.4 in   \n",
       "4      38.1 in       39.1 in    68 in         7 seats  107.9 in  85.6 in   \n",
       "\n",
       "  fuel_tank_volume  \n",
       "0         12.7 gal  \n",
       "1         17.7 gal  \n",
       "2         15.9 gal  \n",
       "3         23.5 gal  \n",
       "4         17.7 gal  "
      ]
     },
     "execution_count": 6,
     "metadata": {},
     "output_type": "execute_result"
    }
   ],
   "source": [
    "# Columns with non-numeric characters which need to be processed to float/int dtypes.\n",
    "\n",
    "cars_df[['back_legroom', 'front_legroom',  'height', 'maximum_seating', 'wheelbase', 'width', 'fuel_tank_volume']].head()"
   ]
  },
  {
   "cell_type": "code",
   "execution_count": 8,
   "metadata": {},
   "outputs": [],
   "source": [
    "# Removing all non-numeric characters from dataset for selected features.\n",
    "\n",
    "cars_df.loc[:, ['back_legroom', 'front_legroom',  'height', 'maximum_seating', 'wheelbase', 'width', \n",
    "                'fuel_tank_volume']] = cars_df.loc[:, ['back_legroom', 'front_legroom',  'height', \n",
    "                                                       'maximum_seating', 'wheelbase', 'width', \n",
    "                                                       'fuel_tank_volume']].replace(r'[^\\d.]+', '', regex=True)"
   ]
  },
  {
   "cell_type": "code",
   "execution_count": 10,
   "metadata": {
    "scrolled": true
   },
   "outputs": [
    {
     "data": {
      "text/html": [
       "<div>\n",
       "<style scoped>\n",
       "    .dataframe tbody tr th:only-of-type {\n",
       "        vertical-align: middle;\n",
       "    }\n",
       "\n",
       "    .dataframe tbody tr th {\n",
       "        vertical-align: top;\n",
       "    }\n",
       "\n",
       "    .dataframe thead th {\n",
       "        text-align: right;\n",
       "    }\n",
       "</style>\n",
       "<table border=\"1\" class=\"dataframe\">\n",
       "  <thead>\n",
       "    <tr style=\"text-align: right;\">\n",
       "      <th></th>\n",
       "      <th>back_legroom</th>\n",
       "      <th>fuel_tank_volume</th>\n",
       "      <th>front_legroom</th>\n",
       "      <th>height</th>\n",
       "      <th>maximum_seating</th>\n",
       "      <th>wheelbase</th>\n",
       "      <th>width</th>\n",
       "    </tr>\n",
       "  </thead>\n",
       "  <tbody>\n",
       "    <tr>\n",
       "      <th>0</th>\n",
       "      <td>35.1</td>\n",
       "      <td>12.7</td>\n",
       "      <td>41.2</td>\n",
       "      <td>66.5</td>\n",
       "      <td>5</td>\n",
       "      <td>101.2</td>\n",
       "      <td>79.6</td>\n",
       "    </tr>\n",
       "    <tr>\n",
       "      <th>1</th>\n",
       "      <td>38.1</td>\n",
       "      <td>17.7</td>\n",
       "      <td>39.1</td>\n",
       "      <td>68</td>\n",
       "      <td>7</td>\n",
       "      <td>107.9</td>\n",
       "      <td>85.6</td>\n",
       "    </tr>\n",
       "    <tr>\n",
       "      <th>2</th>\n",
       "      <td>35.4</td>\n",
       "      <td>15.9</td>\n",
       "      <td>43.3</td>\n",
       "      <td>58.1</td>\n",
       "      <td>5</td>\n",
       "      <td>104.3</td>\n",
       "      <td>78.9</td>\n",
       "    </tr>\n",
       "    <tr>\n",
       "      <th>3</th>\n",
       "      <td>37.6</td>\n",
       "      <td>23.5</td>\n",
       "      <td>39</td>\n",
       "      <td>73</td>\n",
       "      <td>7</td>\n",
       "      <td>115</td>\n",
       "      <td>87.4</td>\n",
       "    </tr>\n",
       "    <tr>\n",
       "      <th>4</th>\n",
       "      <td>38.1</td>\n",
       "      <td>17.7</td>\n",
       "      <td>39.1</td>\n",
       "      <td>68</td>\n",
       "      <td>7</td>\n",
       "      <td>107.9</td>\n",
       "      <td>85.6</td>\n",
       "    </tr>\n",
       "  </tbody>\n",
       "</table>\n",
       "</div>"
      ],
      "text/plain": [
       "  back_legroom fuel_tank_volume front_legroom height maximum_seating  \\\n",
       "0         35.1             12.7          41.2   66.5               5   \n",
       "1         38.1             17.7          39.1     68               7   \n",
       "2         35.4             15.9          43.3   58.1               5   \n",
       "3         37.6             23.5            39     73               7   \n",
       "4         38.1             17.7          39.1     68               7   \n",
       "\n",
       "  wheelbase width  \n",
       "0     101.2  79.6  \n",
       "1     107.9  85.6  \n",
       "2     104.3  78.9  \n",
       "3       115  87.4  \n",
       "4     107.9  85.6  "
      ]
     },
     "execution_count": 10,
     "metadata": {},
     "output_type": "execute_result"
    }
   ],
   "source": [
    "# Processed features.\n",
    "\n",
    "cars_df[['back_legroom', 'fuel_tank_volume', 'front_legroom', 'height', 'maximum_seating', 'wheelbase','width']].head()"
   ]
  },
  {
   "cell_type": "markdown",
   "metadata": {},
   "source": [
    "With non-numeric carachters removed from applicable features they now need to be processed into the appropriate floats/int data types."
   ]
  },
  {
   "cell_type": "code",
   "execution_count": 13,
   "metadata": {},
   "outputs": [],
   "source": [
    "# Changing the data types for all features to numeric where applicable.\n",
    "\n",
    "cars_df[['back_legroom', 'fuel_tank_volume', 'front_legroom', 'height', 'maximum_seating', 'wheelbase', 'width', \n",
    "         'year']] = cars_df[['back_legroom', 'fuel_tank_volume', 'front_legroom', 'height', 'maximum_seating', \n",
    "                             'wheelbase', 'width', 'year']].apply(pd.to_numeric)"
   ]
  },
  {
   "cell_type": "code",
   "execution_count": 14,
   "metadata": {
    "scrolled": false
   },
   "outputs": [
    {
     "name": "stdout",
     "output_type": "stream",
     "text": [
      "<class 'pandas.core.frame.DataFrame'>\n",
      "RangeIndex: 20000 entries, 0 to 19999\n",
      "Data columns (total 27 columns):\n",
      " #   Column                Non-Null Count  Dtype  \n",
      "---  ------                --------------  -----  \n",
      " 0   back_legroom          18207 non-null  float64\n",
      " 1   body_type             19922 non-null  object \n",
      " 2   city_fuel_economy     16836 non-null  float64\n",
      " 3   engine_displacement   18708 non-null  float64\n",
      " 4   engine_type           19366 non-null  object \n",
      " 5   exterior_color        20000 non-null  object \n",
      " 6   front_legroom         18577 non-null  float64\n",
      " 7   fuel_tank_volume      18799 non-null  float64\n",
      " 8   fuel_type             19443 non-null  object \n",
      " 9   height                18802 non-null  float64\n",
      " 10  highway_fuel_economy  16836 non-null  float64\n",
      " 11  horsepower            18708 non-null  float64\n",
      " 12  interior_color        20000 non-null  object \n",
      " 13  make_name             20000 non-null  object \n",
      " 14  maximum_seating       18802 non-null  float64\n",
      " 15  mileage               19456 non-null  float64\n",
      " 16  model_name            20000 non-null  object \n",
      " 17  owner_count           12152 non-null  float64\n",
      " 18  power                 17079 non-null  object \n",
      " 19  torque                16859 non-null  object \n",
      " 20  transmission          19764 non-null  object \n",
      " 21  trimId                19027 non-null  object \n",
      " 22  wheel_system          18862 non-null  object \n",
      " 23  wheelbase             18802 non-null  float64\n",
      " 24  width                 18802 non-null  float64\n",
      " 25  year                  20000 non-null  int64  \n",
      " 26  price                 20000 non-null  float64\n",
      "dtypes: float64(14), int64(1), object(12)\n",
      "memory usage: 4.1+ MB\n"
     ]
    }
   ],
   "source": [
    "# Processed data types.\n",
    "\n",
    "cars_df.info()"
   ]
  },
  {
   "cell_type": "markdown",
   "metadata": {},
   "source": [
    "### Null Entries Removal"
   ]
  },
  {
   "cell_type": "markdown",
   "metadata": {},
   "source": [
    "My next step is to remove null values from the dataset of which there are a multitude of columns with NA entries. While it is acceptable to allow missing values by imputating said values as 0 according to DLWP[2] (François Chollet, 2018), I have chosen to remove them because ratio of null values may be uneven during the train, test and validation splits the sets which will impede the convergence of gradient descent."
   ]
  },
  {
   "cell_type": "code",
   "execution_count": 15,
   "metadata": {},
   "outputs": [
    {
     "name": "stdout",
     "output_type": "stream",
     "text": [
      "back_legroom - No. of NA entries: 1793\n",
      "body_type - No. of NA entries: 78\n",
      "city_fuel_economy - No. of NA entries: 3164\n",
      "engine_displacement - No. of NA entries: 1292\n",
      "engine_type - No. of NA entries: 634\n",
      "front_legroom - No. of NA entries: 1423\n",
      "fuel_tank_volume - No. of NA entries: 1201\n",
      "fuel_type - No. of NA entries: 557\n",
      "height - No. of NA entries: 1198\n",
      "highway_fuel_economy - No. of NA entries: 3164\n",
      "horsepower - No. of NA entries: 1292\n",
      "maximum_seating - No. of NA entries: 1198\n",
      "mileage - No. of NA entries: 544\n",
      "owner_count - No. of NA entries: 7848\n",
      "power - No. of NA entries: 2921\n",
      "torque - No. of NA entries: 3141\n",
      "transmission - No. of NA entries: 236\n",
      "trimId - No. of NA entries: 973\n",
      "wheel_system - No. of NA entries: 1138\n",
      "wheelbase - No. of NA entries: 1198\n",
      "width - No. of NA entries: 1198\n"
     ]
    }
   ],
   "source": [
    "# Iterate through dataframe columns.\n",
    "for column in cars_df.columns:\n",
    "    \n",
    "    # If sum of null entries is 0, ignore column.\n",
    "    if cars_df[column].isnull().sum() == 0:\n",
    "        continue\n",
    "        \n",
    "    # Display features with null entries.\n",
    "    print(f'{column} - No. of NA entries: {cars_df[column].isnull().sum()}')"
   ]
  },
  {
   "cell_type": "code",
   "execution_count": 16,
   "metadata": {
    "scrolled": true
   },
   "outputs": [
    {
     "name": "stderr",
     "output_type": "stream",
     "text": [
      "<ipython-input-16-3ed97c2a6ce3>:3: SettingWithCopyWarning: \n",
      "A value is trying to be set on a copy of a slice from a DataFrame\n",
      "\n",
      "See the caveats in the documentation: https://pandas.pydata.org/pandas-docs/stable/user_guide/indexing.html#returning-a-view-versus-a-copy\n",
      "  cars_df.dropna(axis=0, how='any', inplace=True)\n"
     ]
    }
   ],
   "source": [
    "# Drop rows with missing data.\n",
    "\n",
    "cars_df.dropna(axis=0, how='any', inplace=True)"
   ]
  },
  {
   "cell_type": "markdown",
   "metadata": {},
   "source": [
    "The dataset has now been pre-processed and is ready for the main neural network processing phase."
   ]
  },
  {
   "cell_type": "markdown",
   "metadata": {},
   "source": [
    "## Processing the Dataset - Part 2"
   ]
  },
  {
   "cell_type": "markdown",
   "metadata": {},
   "source": [
    "In this section the final steps will be taken before the dataset is ready for neural network input. The final steps are encoding the dataset and normalising the features."
   ]
  },
  {
   "cell_type": "markdown",
   "metadata": {},
   "source": [
    "### Encoding the Dataset"
   ]
  },
  {
   "cell_type": "markdown",
   "metadata": {},
   "source": [
    "Categorical values such as the colour, model and fuel type must be encoded before it may be applied through a neural network. This will be accomplished using the pandas get_dummies function."
   ]
  },
  {
   "cell_type": "code",
   "execution_count": 17,
   "metadata": {
    "scrolled": true
   },
   "outputs": [
    {
     "data": {
      "text/html": [
       "<div>\n",
       "<style scoped>\n",
       "    .dataframe tbody tr th:only-of-type {\n",
       "        vertical-align: middle;\n",
       "    }\n",
       "\n",
       "    .dataframe tbody tr th {\n",
       "        vertical-align: top;\n",
       "    }\n",
       "\n",
       "    .dataframe thead th {\n",
       "        text-align: right;\n",
       "    }\n",
       "</style>\n",
       "<table border=\"1\" class=\"dataframe\">\n",
       "  <thead>\n",
       "    <tr style=\"text-align: right;\">\n",
       "      <th></th>\n",
       "      <th>back_legroom</th>\n",
       "      <th>city_fuel_economy</th>\n",
       "      <th>engine_displacement</th>\n",
       "      <th>front_legroom</th>\n",
       "      <th>fuel_tank_volume</th>\n",
       "      <th>height</th>\n",
       "      <th>highway_fuel_economy</th>\n",
       "      <th>horsepower</th>\n",
       "      <th>maximum_seating</th>\n",
       "      <th>mileage</th>\n",
       "      <th>...</th>\n",
       "      <th>trimId_t9970</th>\n",
       "      <th>trimId_t9974</th>\n",
       "      <th>trimId_t9984</th>\n",
       "      <th>trimId_t9986</th>\n",
       "      <th>trimId_t9990</th>\n",
       "      <th>wheel_system_4WD</th>\n",
       "      <th>wheel_system_4X2</th>\n",
       "      <th>wheel_system_AWD</th>\n",
       "      <th>wheel_system_FWD</th>\n",
       "      <th>wheel_system_RWD</th>\n",
       "    </tr>\n",
       "  </thead>\n",
       "  <tbody>\n",
       "    <tr>\n",
       "      <th>12</th>\n",
       "      <td>35.1</td>\n",
       "      <td>22.0</td>\n",
       "      <td>3000.0</td>\n",
       "      <td>42.0</td>\n",
       "      <td>15.8</td>\n",
       "      <td>56.5</td>\n",
       "      <td>33.0</td>\n",
       "      <td>320.0</td>\n",
       "      <td>5.0</td>\n",
       "      <td>6903.0</td>\n",
       "      <td>...</td>\n",
       "      <td>0</td>\n",
       "      <td>0</td>\n",
       "      <td>0</td>\n",
       "      <td>0</td>\n",
       "      <td>0</td>\n",
       "      <td>0</td>\n",
       "      <td>0</td>\n",
       "      <td>1</td>\n",
       "      <td>0</td>\n",
       "      <td>0</td>\n",
       "    </tr>\n",
       "    <tr>\n",
       "      <th>38</th>\n",
       "      <td>38.1</td>\n",
       "      <td>27.0</td>\n",
       "      <td>1500.0</td>\n",
       "      <td>42.0</td>\n",
       "      <td>15.8</td>\n",
       "      <td>57.6</td>\n",
       "      <td>36.0</td>\n",
       "      <td>160.0</td>\n",
       "      <td>5.0</td>\n",
       "      <td>42394.0</td>\n",
       "      <td>...</td>\n",
       "      <td>0</td>\n",
       "      <td>0</td>\n",
       "      <td>0</td>\n",
       "      <td>0</td>\n",
       "      <td>0</td>\n",
       "      <td>0</td>\n",
       "      <td>0</td>\n",
       "      <td>0</td>\n",
       "      <td>1</td>\n",
       "      <td>0</td>\n",
       "    </tr>\n",
       "    <tr>\n",
       "      <th>40</th>\n",
       "      <td>27.3</td>\n",
       "      <td>18.0</td>\n",
       "      <td>3500.0</td>\n",
       "      <td>45.4</td>\n",
       "      <td>17.4</td>\n",
       "      <td>55.1</td>\n",
       "      <td>24.0</td>\n",
       "      <td>311.0</td>\n",
       "      <td>4.0</td>\n",
       "      <td>62251.0</td>\n",
       "      <td>...</td>\n",
       "      <td>0</td>\n",
       "      <td>0</td>\n",
       "      <td>0</td>\n",
       "      <td>0</td>\n",
       "      <td>0</td>\n",
       "      <td>0</td>\n",
       "      <td>0</td>\n",
       "      <td>1</td>\n",
       "      <td>0</td>\n",
       "      <td>0</td>\n",
       "    </tr>\n",
       "    <tr>\n",
       "      <th>41</th>\n",
       "      <td>38.4</td>\n",
       "      <td>18.0</td>\n",
       "      <td>3600.0</td>\n",
       "      <td>41.0</td>\n",
       "      <td>19.4</td>\n",
       "      <td>70.7</td>\n",
       "      <td>27.0</td>\n",
       "      <td>310.0</td>\n",
       "      <td>8.0</td>\n",
       "      <td>36410.0</td>\n",
       "      <td>...</td>\n",
       "      <td>0</td>\n",
       "      <td>0</td>\n",
       "      <td>0</td>\n",
       "      <td>0</td>\n",
       "      <td>0</td>\n",
       "      <td>0</td>\n",
       "      <td>0</td>\n",
       "      <td>0</td>\n",
       "      <td>1</td>\n",
       "      <td>0</td>\n",
       "    </tr>\n",
       "    <tr>\n",
       "      <th>45</th>\n",
       "      <td>36.8</td>\n",
       "      <td>15.0</td>\n",
       "      <td>3600.0</td>\n",
       "      <td>41.3</td>\n",
       "      <td>22.0</td>\n",
       "      <td>69.9</td>\n",
       "      <td>22.0</td>\n",
       "      <td>281.0</td>\n",
       "      <td>8.0</td>\n",
       "      <td>36055.0</td>\n",
       "      <td>...</td>\n",
       "      <td>0</td>\n",
       "      <td>0</td>\n",
       "      <td>0</td>\n",
       "      <td>0</td>\n",
       "      <td>0</td>\n",
       "      <td>0</td>\n",
       "      <td>0</td>\n",
       "      <td>1</td>\n",
       "      <td>0</td>\n",
       "      <td>0</td>\n",
       "    </tr>\n",
       "  </tbody>\n",
       "</table>\n",
       "<p>5 rows × 7830 columns</p>\n",
       "</div>"
      ],
      "text/plain": [
       "    back_legroom  city_fuel_economy  engine_displacement  front_legroom  \\\n",
       "12          35.1               22.0               3000.0           42.0   \n",
       "38          38.1               27.0               1500.0           42.0   \n",
       "40          27.3               18.0               3500.0           45.4   \n",
       "41          38.4               18.0               3600.0           41.0   \n",
       "45          36.8               15.0               3600.0           41.3   \n",
       "\n",
       "    fuel_tank_volume  height  highway_fuel_economy  horsepower  \\\n",
       "12              15.8    56.5                  33.0       320.0   \n",
       "38              15.8    57.6                  36.0       160.0   \n",
       "40              17.4    55.1                  24.0       311.0   \n",
       "41              19.4    70.7                  27.0       310.0   \n",
       "45              22.0    69.9                  22.0       281.0   \n",
       "\n",
       "    maximum_seating  mileage  ...  trimId_t9970  trimId_t9974  trimId_t9984  \\\n",
       "12              5.0   6903.0  ...             0             0             0   \n",
       "38              5.0  42394.0  ...             0             0             0   \n",
       "40              4.0  62251.0  ...             0             0             0   \n",
       "41              8.0  36410.0  ...             0             0             0   \n",
       "45              8.0  36055.0  ...             0             0             0   \n",
       "\n",
       "    trimId_t9986  trimId_t9990  wheel_system_4WD  wheel_system_4X2  \\\n",
       "12             0             0                 0                 0   \n",
       "38             0             0                 0                 0   \n",
       "40             0             0                 0                 0   \n",
       "41             0             0                 0                 0   \n",
       "45             0             0                 0                 0   \n",
       "\n",
       "    wheel_system_AWD  wheel_system_FWD  wheel_system_RWD  \n",
       "12                 1                 0                 0  \n",
       "38                 0                 1                 0  \n",
       "40                 1                 0                 0  \n",
       "41                 0                 1                 0  \n",
       "45                 1                 0                 0  \n",
       "\n",
       "[5 rows x 7830 columns]"
      ]
     },
     "execution_count": 17,
     "metadata": {},
     "output_type": "execute_result"
    }
   ],
   "source": [
    "# Encoding the categorical values and assigning output to new dataframe.\n",
    "\n",
    "dataset = pd.get_dummies(cars_df, columns=['body_type', 'engine_type', 'exterior_color', 'fuel_type', 'interior_color', \n",
    "                                           'make_name', 'model_name', 'power', 'torque', 'transmission', 'trimId', \n",
    "                                           'wheel_system'])\n",
    "\n",
    "# Examine encoded df.\n",
    "dataset.head()"
   ]
  },
  {
   "cell_type": "code",
   "execution_count": 18,
   "metadata": {},
   "outputs": [
    {
     "data": {
      "text/plain": [
       "(9429, 7830)"
      ]
     },
     "execution_count": 18,
     "metadata": {},
     "output_type": "execute_result"
    }
   ],
   "source": [
    "# Examine shape of encoded dataframe\n",
    "\n",
    "dataset.shape"
   ]
  },
  {
   "cell_type": "code",
   "execution_count": 19,
   "metadata": {},
   "outputs": [
    {
     "name": "stdout",
     "output_type": "stream",
     "text": [
      "<class 'pandas.core.frame.DataFrame'>\n",
      "Int64Index: 9429 entries, 12 to 19997\n",
      "Columns: 7830 entries, back_legroom to wheel_system_RWD\n",
      "dtypes: float64(14), int64(1), uint8(7815)\n",
      "memory usage: 71.4 MB\n"
     ]
    }
   ],
   "source": [
    "# Check the data types.\n",
    "\n",
    "dataset.info()"
   ]
  },
  {
   "cell_type": "markdown",
   "metadata": {},
   "source": [
    "This concludes the encoding of the categorical features of the dataset. The new dataset now contains 9429 rows and 7830 features. There are no longer any entries of object data type, all entries are now numerical."
   ]
  },
  {
   "cell_type": "markdown",
   "metadata": {},
   "source": [
    "### Train/Test Split"
   ]
  },
  {
   "cell_type": "markdown",
   "metadata": {},
   "source": [
    "Before the dataset may be normalised it must be split into train and test partitions. This will be accomplished using the train test split sklearn function."
   ]
  },
  {
   "cell_type": "code",
   "execution_count": 20,
   "metadata": {},
   "outputs": [],
   "source": [
    "# Assign the independant features to X.\n",
    "X = dataset.loc[:, dataset.columns != 'price']\n",
    "\n",
    "# Assign the dependant feature to y and transform into an array.\n",
    "y = dataset['price'].to_numpy()\n",
    "\n",
    "# Split the dataset into train and test batches using the sklearn function.\n",
    "X_train, X_test, y_train, y_test = train_test_split(X, y, test_size = 0.2, random_state = 2)"
   ]
  },
  {
   "cell_type": "markdown",
   "metadata": {},
   "source": [
    "As observed only the dependant variable was transformed into a numpy array, the independant variables will be transformed below during the normalisation process."
   ]
  },
  {
   "cell_type": "markdown",
   "metadata": {},
   "source": [
    "### Feature Scaling"
   ]
  },
  {
   "cell_type": "markdown",
   "metadata": {},
   "source": [
    "The dataset needs to be normalised before input into the neural network. Large values between features may result in large error gradient updates which inturn affect the weights and impede network convergence. Additionally it is also crucial to use the same scaling parameters which were used in normalisation of the training batch as on the testing batch. This is to ensure that no data is leaked between the train and test partitions as demonstrated in this [3] Machine Learning Mastery online article."
   ]
  },
  {
   "cell_type": "markdown",
   "metadata": {},
   "source": [
    "##### Normalisation vs Standardisation\n",
    "\n",
    "In order to standardise the dataset we must ensure that the feature distributions are Gaussian with a well behaved mean and standard deviation. However even if the dataset does not fit these pre-requisites it is still possible to standardise at the cost of model bias. \n",
    "\n",
    "On the other hand normalisation requires an accurate estimate of the minimum and maximum observable values and is often used when standardisation is not optimal, summarised from the Machine Learning Mastery article on feature scaling [3].\n",
    "\n",
    "Which wich feature scaling technique will be employed will be examined below by visualising the distribution of every numerical feature in the dataset."
   ]
  },
  {
   "cell_type": "code",
   "execution_count": 21,
   "metadata": {
    "scrolled": false
   },
   "outputs": [
    {
     "data": {
      "image/png": "[encoded data removed]",
      "text/plain": [
       "<Figure size 1440x1080 with 16 Axes>"
      ]
     },
     "metadata": {
      "needs_background": "light"
     },
     "output_type": "display_data"
    }
   ],
   "source": [
    "# Visualise the distribution of the numerical features.\n",
    "\n",
    "dataset[['back_legroom', 'city_fuel_economy', 'engine_displacement', 'front_legroom', 'fuel_tank_volume', 'height', \n",
    "         'highway_fuel_economy', 'horsepower', 'maximum_seating', 'mileage', 'owner_count', 'wheelbase', 'width', \n",
    "         'price']].hist(bins=15, figsize=(20, 15), color='blue', edgecolor='red', layout=(4, 4), grid=True)\n",
    "\n",
    "plt.show()"
   ]
  },
  {
   "cell_type": "markdown",
   "metadata": {},
   "source": [
    "Examining the distribution of the numerical features in the dataset it is clear that many features do not fit a normal Gaussian distribution. Consequently it would then be advisable to use normalisation for the data scaling process. My inclination towards normalisation is further intensified by the knowledge that even with this small sample of the original dataset we still have an accurate observation of the minimum and maximum values for each feature. I believe we have these values within our sample due to the nature of the dataset. A vehicles tire width can only be so wide or so narrow, engine displacement on the used car market falls within an expected range and milage, while variable, does not usually exceed the the 300k range, nor can it be lower than 0. Therefore even a small sample can, with a high degree of certainty, capture the expected minimum and maximum values for most if not all features.\n",
    "\n",
    "To conclude, normalisation will be used to scale the features.\n",
    "\n",
    "###### Note to reader: Standardisation was employed and tested on this dataset and yielded worse results than normalisation in a series of trials."
   ]
  },
  {
   "cell_type": "code",
   "execution_count": 22,
   "metadata": {},
   "outputs": [],
   "source": [
    "# Initialising the normalisation scaler.\n",
    "input_scaler = MinMaxScaler()\n",
    "\n",
    "# Fit scaler to the training dataset.\n",
    "input_scaler.fit(X_train)\n",
    "\n",
    "# Normalise the training set.\n",
    "X_train = input_scaler.transform(X_train)\n",
    "\n",
    "# Normalise the test set using the 'train' parameters.\n",
    "X_test = input_scaler.transform(X_test)"
   ]
  },
  {
   "cell_type": "markdown",
   "metadata": {},
   "source": [
    "The predictor variable was ultimately not normalised after much deliberation with online sources and differing opinions, as visible in this [4] forum. From my understanding it is not necessary to scale the predictor variable unless said variable displays a high variance. Some opinions stated that no scaling need be applied to the output of regression problems and due to difficulty of un-scaling the data at the end of the training and testing phases the dependant variable was not normalised.\n",
    "\n",
    "In conclusion the output variable will not be scaled.\n",
    "\n",
    "This concludes the processing of the dataset, it has now been made ready for application to a series of neural network models."
   ]
  },
  {
   "cell_type": "markdown",
   "metadata": {},
   "source": [
    "# Methodology\n",
    "\n",
    "My objective is to find the best fitting model with a low bias and high generalisation. My steps towards this goal are as follows:\n",
    "\n",
    "1. Test a series of models with different neural and layer hyperparameters combinations.\n",
    "2. Test a series of models with differing regularisation hyperparameters upon the previously selected model.\n",
    "3. Use k-fold validation to test tuned hyperparameters and find the optimal epoch per fold.\n",
    "4. Train final tuned model with the optimal hyperparameters for the optimal epochs.\n",
    "5. Evaluate the model upon the test set.\n",
    "\n",
    "#### Measure of Success - Low MAE values"
   ]
  },
  {
   "cell_type": "markdown",
   "metadata": {},
   "source": [
    "## Multiple Model Testing\n",
    "\n",
    "### Model Builder"
   ]
  },
  {
   "cell_type": "markdown",
   "metadata": {},
   "source": [
    "In this section a series of models will be created and subsequently tested upon validation data. In order to achieve this and to avoid unecessary code repetition the function below has been created to aid in this process.\n",
    "\n",
    "This model building function allows the user to select the number of layers, the number of neurons and the regularisation technique to apply, if desired."
   ]
  },
  {
   "cell_type": "code",
   "execution_count": 23,
   "metadata": {},
   "outputs": [],
   "source": [
    "def build_model(nb_layers=2, units=4, dropout=None, L1=None, L2=None):\n",
    "    \"\"\"\n",
    "    This function creates a regression neural network model with RMSprop optimiser, \n",
    "    MSE loss and metric set to MAE. The activation function used is RELU and the \n",
    "    final layer is comprised of a single neuron.\n",
    "    \n",
    "    Inputs \n",
    "    nb_layers: The number of layers in the model.\n",
    "    units: The number of neurons in each layer.\n",
    "    dropout: If enabled will add a dropout layer corresponding to the input decimal. To enable \n",
    "    simply enter the decimal to apply as dropout.\n",
    "    L1: adds l1 regularisation corresponding to the decimal input. To enable \n",
    "    simply enter the decimal to apply as l1 regularisation.\n",
    "    L2: adds l2 regularisation corresponding to the decimal input. To enable \n",
    "    simply enter the decimal to apply as l2 regularisation.\n",
    "    \n",
    "    Output\n",
    "    Returns a compiled model with the specified hyperparameters.\n",
    "    \"\"\"\n",
    "    \n",
    "    # Instantiate the neural network model.\n",
    "    model = models.Sequential()\n",
    "    \n",
    "    # Boolean value to control and differentiate between the first and subsequent layers.\n",
    "    first_layer = True\n",
    "    \n",
    "    # Looping through the number of layers.\n",
    "    for layer in range(nb_layers):\n",
    "        \n",
    "        # Signify the first layer - which must be built differently to subsequent layers.\n",
    "        if first_layer:\n",
    "            \n",
    "            # If L1 regularisation enabled.\n",
    "            if L1:\n",
    "                \n",
    "                # Create ths first layer using the 'units' input as neurons, Relu activation function, \n",
    "                # input shape as determined by the training data and add l1 regularisation\n",
    "                model.add(layers.Dense(units, kernel_regularizer=regularizers.l1(L1), \n",
    "                                       activation='relu', input_shape=(X_train.shape[1], )))\n",
    "                \n",
    "            # Check if L2 Regularisation enabled.    \n",
    "            elif L2:\n",
    "                \n",
    "                # Create ths first layer using the 'units' input as neurons, Relu activation function, \n",
    "                # input shape as determined by the training data and add l2 regularisation\n",
    "                model.add(layers.Dense(units, kernel_regularizer=regularizers.l2(L2), \n",
    "                                       activation='relu', input_shape=(X_train.shape[1], )))\n",
    "                \n",
    "            # If none enabled use standard layer.  \n",
    "            else:\n",
    "                \n",
    "                # Create ths first layer using the 'units' input as neurons, Relu activation function, \n",
    "                # input shape as determined by the training data\n",
    "                model.add(layers.Dense(units, activation='relu', input_shape=(X_train.shape[1], )))                \n",
    "\n",
    "            # Add drop out layer if dropout decimal entered.\n",
    "            if dropout:\n",
    "                model.add(layers.Dropout(dropout))\n",
    "\n",
    "            # Set boolean value to false so loop builds remaining layers using below layer layout.\n",
    "            first_layer = False\n",
    "        \n",
    "        # Create remaining layers using the 'units' input as neurons.\n",
    "        else:\n",
    "            \n",
    "            # Build layer using l1 regularisation if enabled.\n",
    "            if L1:\n",
    "                model.add(layers.Dense(units, kernel_regularizer=regularizers.l1(L1), activation='relu'))\n",
    "            \n",
    "            # Build layer using l2 regularisation if enabled.\n",
    "            elif L2:\n",
    "                model.add(layers.Dense(units, kernel_regularizer=regularizers.l2(L2), activation='relu'))\n",
    "                \n",
    "            # Build layer without any regularisation.\n",
    "            else:\n",
    "                model.add(layers.Dense(units, activation='relu'))\n",
    "                                    \n",
    "            # Add drop out layer if dropout is enabled.\n",
    "            if dropout:\n",
    "                model.add(layers.Dropout(dropout)) \n",
    "    \n",
    "    # Add the final layer comprised of just one neuron for regression tasks.\n",
    "    model.add(layers.Dense(1))\n",
    "    \n",
    "    # Compile the model using the below hyperparameters.\n",
    "    model.compile(optimizer='rmsprop', loss='mse', metrics = ['mae'])\n",
    "    \n",
    "    # Return the compiled model.\n",
    "    return model"
   ]
  },
  {
   "cell_type": "markdown",
   "metadata": {},
   "source": [
    "The model builder will be used extensively in creating and validating multiple models with different hyperparamters in order to find the most stable, best fitting model."
   ]
  },
  {
   "cell_type": "markdown",
   "metadata": {},
   "source": [
    "### Testing a Series of Models\n",
    "\n",
    "In this section I will be testing 24 models in a loop and saving their respective summaries and outputs for later analysis. These models will be trained for 200 epochs and a mini-batch size of 64. The batch size was selected as such due to the training tensor size which result in long training times even with this small sample. The epochs are limited to 200 to allow the networks to fully converge and for overfitting to occur."
   ]
  },
  {
   "cell_type": "code",
   "execution_count": 16,
   "metadata": {
    "scrolled": false
   },
   "outputs": [
    {
     "name": "stdout",
     "output_type": "stream",
     "text": [
      "Training model 1/24\n",
      "Training model 2/24\n",
      "Training model 3/24\n",
      "Training model 4/24\n",
      "Training model 5/24\n",
      "Training model 6/24\n",
      "Training model 7/24\n",
      "Training model 8/24\n",
      "Training model 9/24\n",
      "Training model 10/24\n",
      "Training model 11/24\n",
      "Training model 12/24\n",
      "Training model 13/24\n",
      "Training model 14/24\n",
      "Training model 15/24\n",
      "Training model 16/24\n",
      "Training model 17/24\n",
      "Training model 18/24\n",
      "Training model 19/24\n",
      "Training model 20/24\n",
      "Training model 21/24\n",
      "Training model 22/24\n",
      "Training model 23/24\n",
      "Training model 24/24\n",
      "Training Complete\n"
     ]
    }
   ],
   "source": [
    "# Creating a list of models with differing hyperparamters to train and validate.\n",
    "\n",
    "models = [build_model(nb_layers=2, units=16),\n",
    "          build_model(nb_layers=2, units=32),\n",
    "          build_model(nb_layers=2, units=64),\n",
    "          build_model(nb_layers=2, units=124),\n",
    "          build_model(nb_layers=2, units=256),\n",
    "          build_model(nb_layers=2, units=512),\n",
    "          build_model(nb_layers=3, units=16),\n",
    "          build_model(nb_layers=3, units=32),\n",
    "          build_model(nb_layers=3, units=64),\n",
    "          build_model(nb_layers=3, units=124),\n",
    "          build_model(nb_layers=3, units=256),\n",
    "          build_model(nb_layers=3, units=512),\n",
    "          build_model(nb_layers=4, units=16),\n",
    "          build_model(nb_layers=4, units=32),\n",
    "          build_model(nb_layers=4, units=64),\n",
    "          build_model(nb_layers=4, units=124),\n",
    "          build_model(nb_layers=4, units=256),\n",
    "          build_model(nb_layers=4, units=512),\n",
    "          build_model(nb_layers=5, units=16),\n",
    "          build_model(nb_layers=5, units=32),\n",
    "          build_model(nb_layers=5, units=64),\n",
    "          build_model(nb_layers=5, units=124),\n",
    "          build_model(nb_layers=5, units=256),\n",
    "          build_model(nb_layers=5, units=512)]\n",
    "\n",
    "\n",
    "# Instantiating a list to record model summary.\n",
    "model_summary = []\n",
    "\n",
    "# Instantiating a dictionary to record model history.\n",
    "histories = {}\n",
    "\n",
    "# Looping through the model list.\n",
    "for index, model in enumerate(models):\n",
    "    \n",
    "    # Save the model summary to the list.\n",
    "    model_summary.append(model)\n",
    "    \n",
    "    # Track the iterations of the model list using print statements.\n",
    "    print(f'Training model {index+1}/{len(models)}')\n",
    "    \n",
    "    # Train, validate and save model history to a disctionary.\n",
    "    histories[f'model_{index+1}'] = model.fit(X_train, y_train, \n",
    "                                                 epochs=200, batch_size=64, \n",
    "                                                 validation_split=.2, verbose=0)\n",
    "    \n",
    "    # Print statement once all models have completed validation.\n",
    "    if (index+1) == len(models):\n",
    "        print('Training Complete')"
   ]
  },
  {
   "cell_type": "markdown",
   "metadata": {},
   "source": [
    "With the model validation process complete I will now analyse the historic model data to uncover the optimal hyperparameters to use in the following section."
   ]
  },
  {
   "cell_type": "markdown",
   "metadata": {},
   "source": [
    "### Model Selection"
   ]
  },
  {
   "cell_type": "markdown",
   "metadata": {},
   "source": [
    "In this section I will select the top five models from which to choose the best layer/neuron hyperparameter combination. The best model in this instance will be based upon the average of the five lowest mean absolute errors per model.\n",
    "\n",
    "In order to accomplish this the model history previously stored will be used to create a dataframe from which the top five models can be selected and visualised."
   ]
  },
  {
   "cell_type": "code",
   "execution_count": 17,
   "metadata": {},
   "outputs": [],
   "source": [
    "# Creating a dataframe which contains the model and its respective MAE per epoch.\n",
    "\n",
    "history_df = pd.DataFrame()\n",
    "for i, v in histories.items():\n",
    "    history_df[i] = v.history['val_mae']"
   ]
  },
  {
   "cell_type": "markdown",
   "metadata": {},
   "source": [
    "The dataframe will now be used to create a list containing the respective model and its MAE value."
   ]
  },
  {
   "cell_type": "code",
   "execution_count": 18,
   "metadata": {
    "scrolled": false
   },
   "outputs": [],
   "source": [
    "# Using list comprehension to get the mean of the 5 smallest MAE values per model.\n",
    "mae_min_avg = [(model, round(np.mean(history_df[model].nsmallest(5, keep='first')),2)) for model in history_df]\n",
    "\n",
    "# Sorting the list by MAE value.\n",
    "mae_min_avg.sort(key=lambda x: x[1])"
   ]
  },
  {
   "cell_type": "markdown",
   "metadata": {},
   "source": [
    "Looping through the sorted MAE array we can now rank all models and observe the most closely fitting models."
   ]
  },
  {
   "cell_type": "code",
   "execution_count": 19,
   "metadata": {},
   "outputs": [
    {
     "name": "stdout",
     "output_type": "stream",
     "text": [
      "Rank 1: model_19 = 2407.81\n",
      "Rank 2: model_13 = 2409.97\n",
      "Rank 3: model_14 = 2417.35\n",
      "Rank 4: model_15 = 2426.06\n",
      "Rank 5: model_8 = 2429.51\n",
      "Rank 6: model_9 = 2431.92\n",
      "Rank 7: model_20 = 2432.33\n",
      "Rank 8: model_7 = 2433.78\n",
      "Rank 9: model_16 = 2447.02\n",
      "Rank 10: model_11 = 2451.84\n",
      "Rank 11: model_3 = 2460.07\n",
      "Rank 12: model_5 = 2463.99\n",
      "Rank 13: model_4 = 2468.06\n",
      "Rank 14: model_6 = 2476.3\n",
      "Rank 15: model_10 = 2500.73\n",
      "Rank 16: model_21 = 2501.41\n",
      "Rank 17: model_12 = 2512.83\n",
      "Rank 18: model_22 = 2519.19\n",
      "Rank 19: model_18 = 2537.1\n",
      "Rank 20: model_17 = 2546.09\n",
      "Rank 21: model_23 = 2558.76\n",
      "Rank 22: model_24 = 2619.12\n",
      "Rank 23: model_2 = 2696.16\n",
      "Rank 24: model_1 = 3351.67\n"
     ]
    }
   ],
   "source": [
    "# Loop through the sorted list and print the model and its respective MAE value.\n",
    "\n",
    "for index, model in enumerate(mae_min_avg):\n",
    "    print(f'Rank {index+1}: {model[0]} = {model[1]}')"
   ]
  },
  {
   "cell_type": "markdown",
   "metadata": {},
   "source": [
    "In order to better understand which model number corresponds to which hyperparameter layout the top 5 model summaries will be printed in sorted descending order."
   ]
  },
  {
   "cell_type": "code",
   "execution_count": 20,
   "metadata": {
    "scrolled": false
   },
   "outputs": [
    {
     "name": "stdout",
     "output_type": "stream",
     "text": [
      "Model: \"sequential_18\"\n",
      "_________________________________________________________________\n",
      "Layer (type)                 Output Shape              Param #   \n",
      "=================================================================\n",
      "dense_72 (Dense)             (None, 16)                125280    \n",
      "_________________________________________________________________\n",
      "dense_73 (Dense)             (None, 16)                272       \n",
      "_________________________________________________________________\n",
      "dense_74 (Dense)             (None, 16)                272       \n",
      "_________________________________________________________________\n",
      "dense_75 (Dense)             (None, 16)                272       \n",
      "_________________________________________________________________\n",
      "dense_76 (Dense)             (None, 16)                272       \n",
      "_________________________________________________________________\n",
      "dense_77 (Dense)             (None, 1)                 17        \n",
      "=================================================================\n",
      "Total params: 126,385\n",
      "Trainable params: 126,385\n",
      "Non-trainable params: 0\n",
      "_________________________________________________________________\n",
      "Model Number: 19 None\n",
      "\n",
      "\n",
      "Model: \"sequential_12\"\n",
      "_________________________________________________________________\n",
      "Layer (type)                 Output Shape              Param #   \n",
      "=================================================================\n",
      "dense_42 (Dense)             (None, 16)                125280    \n",
      "_________________________________________________________________\n",
      "dense_43 (Dense)             (None, 16)                272       \n",
      "_________________________________________________________________\n",
      "dense_44 (Dense)             (None, 16)                272       \n",
      "_________________________________________________________________\n",
      "dense_45 (Dense)             (None, 16)                272       \n",
      "_________________________________________________________________\n",
      "dense_46 (Dense)             (None, 1)                 17        \n",
      "=================================================================\n",
      "Total params: 126,113\n",
      "Trainable params: 126,113\n",
      "Non-trainable params: 0\n",
      "_________________________________________________________________\n",
      "Model Number: 13 None\n",
      "\n",
      "\n",
      "Model: \"sequential_13\"\n",
      "_________________________________________________________________\n",
      "Layer (type)                 Output Shape              Param #   \n",
      "=================================================================\n",
      "dense_47 (Dense)             (None, 32)                250560    \n",
      "_________________________________________________________________\n",
      "dense_48 (Dense)             (None, 32)                1056      \n",
      "_________________________________________________________________\n",
      "dense_49 (Dense)             (None, 32)                1056      \n",
      "_________________________________________________________________\n",
      "dense_50 (Dense)             (None, 32)                1056      \n",
      "_________________________________________________________________\n",
      "dense_51 (Dense)             (None, 1)                 33        \n",
      "=================================================================\n",
      "Total params: 253,761\n",
      "Trainable params: 253,761\n",
      "Non-trainable params: 0\n",
      "_________________________________________________________________\n",
      "Model Number: 14 None\n",
      "\n",
      "\n",
      "Model: \"sequential_14\"\n",
      "_________________________________________________________________\n",
      "Layer (type)                 Output Shape              Param #   \n",
      "=================================================================\n",
      "dense_52 (Dense)             (None, 64)                501120    \n",
      "_________________________________________________________________\n",
      "dense_53 (Dense)             (None, 64)                4160      \n",
      "_________________________________________________________________\n",
      "dense_54 (Dense)             (None, 64)                4160      \n",
      "_________________________________________________________________\n",
      "dense_55 (Dense)             (None, 64)                4160      \n",
      "_________________________________________________________________\n",
      "dense_56 (Dense)             (None, 1)                 65        \n",
      "=================================================================\n",
      "Total params: 513,665\n",
      "Trainable params: 513,665\n",
      "Non-trainable params: 0\n",
      "_________________________________________________________________\n",
      "Model Number: 15 None\n",
      "\n",
      "\n",
      "Model: \"sequential_7\"\n",
      "_________________________________________________________________\n",
      "Layer (type)                 Output Shape              Param #   \n",
      "=================================================================\n",
      "dense_22 (Dense)             (None, 32)                250560    \n",
      "_________________________________________________________________\n",
      "dense_23 (Dense)             (None, 32)                1056      \n",
      "_________________________________________________________________\n",
      "dense_24 (Dense)             (None, 32)                1056      \n",
      "_________________________________________________________________\n",
      "dense_25 (Dense)             (None, 1)                 33        \n",
      "=================================================================\n",
      "Total params: 252,705\n",
      "Trainable params: 252,705\n",
      "Non-trainable params: 0\n",
      "_________________________________________________________________\n",
      "Model Number: 8 None\n",
      "\n",
      "\n"
     ]
    }
   ],
   "source": [
    "# Loop through the top 5 models.\n",
    "for model in mae_min_avg[:5]:\n",
    "    \n",
    "    # Remove non-numerical characters and subtract by 1 to align to the model training & saving process.\n",
    "    model_id = int(re.sub('[^0-9]', '', model[0]))-1\n",
    "    \n",
    "    # Print the model summary and identifier.\n",
    "    print(f'Model Number: {model_id+1}', model_summary[model_id].summary())\n",
    "    print('\\n')"
   ]
  },
  {
   "cell_type": "markdown",
   "metadata": {},
   "source": [
    "The results show that a lower capacity model comprised of 3+ layers is optmial for this dataset. The range between the top five models is small and in order to better understand the training process I will visualise the MAE per epoch to identify between models which overfit quickly vs those that do so slowly."
   ]
  },
  {
   "cell_type": "markdown",
   "metadata": {},
   "source": [
    "### Visualising Model Validation"
   ]
  },
  {
   "cell_type": "markdown",
   "metadata": {},
   "source": [
    "In order to visualise the training and validation of the models I will filter the dataframe using a mask which will contain only the top 5 models we have previously examined."
   ]
  },
  {
   "cell_type": "code",
   "execution_count": 21,
   "metadata": {},
   "outputs": [],
   "source": [
    "# Creating a mask which will be used to filter the historical MAE dataframe.\n",
    "\n",
    "mask = [model[0] for model in mae_min_avg[:5]]"
   ]
  },
  {
   "cell_type": "code",
   "execution_count": 22,
   "metadata": {},
   "outputs": [],
   "source": [
    "# Filtering and creating a new dataframe which contains only the top 5 models.\n",
    "\n",
    "top_5_models_df = history_df.filter(mask, axis=1)"
   ]
  },
  {
   "cell_type": "code",
   "execution_count": 23,
   "metadata": {
    "scrolled": false
   },
   "outputs": [
    {
     "data": {
      "image/png": "[encoded data removed]",
      "text/plain": [
       "<Figure size 1080x720 with 1 Axes>"
      ]
     },
     "metadata": {
      "needs_background": "light"
     },
     "output_type": "display_data"
    }
   ],
   "source": [
    "# Creating a plot from the new dataframe outlining top 5 models.\n",
    "\n",
    "top_5_models_df.plot(figsize=(15,10), title='Validation MAE Score For The Top 5 Models', grid=True, \n",
    "                     xlabel ='Epochs', ylabel='MAE')\n",
    "plt.show()"
   ]
  },
  {
   "cell_type": "markdown",
   "metadata": {},
   "source": [
    "### Selecting the Model"
   ]
  },
  {
   "cell_type": "markdown",
   "metadata": {},
   "source": [
    "Examining the models visualisations I believe we can immediately rule out model 15 which displays an unstable and volatile training process with frequent spikes in validation MAE.\n",
    "\n",
    "Model 8 follows model 13 very closely with regards to the per epoch MAE, which is interesting given the disparity between the trainable parameters between the two models. Both models however take considerably longer to train which, while not a problem in a small sample such as this could provide issues in a real world scenario and could be impractical.\n",
    "\n",
    "Model 19 has the lowest MAE average and on paper the best performance, however I believe that given enough iterations of the model testing phase we would find any of these top five models swapping ranks with each other. This model contains five layers, the deepest model in the hyperparameter space, and given that its contemporary models are less than four layers I believe this model over overfits the training set to a greater extent than the others. It may be difficult to generalise the model with so many hidden layers and therefore this model will be excluded.\n",
    "\n",
    "This leaves just model 14 with 4 layers of 32 neurons each. In the plot this model shows a balanced training time versus the other top models while still maintaining low MAE error. These parameters will be used for the final model training and testing."
   ]
  },
  {
   "cell_type": "markdown",
   "metadata": {},
   "source": [
    "### Testing Regularisation Hyperparameters"
   ]
  },
  {
   "cell_type": "markdown",
   "metadata": {},
   "source": [
    "The next step is to apply regularisation to the selected model. In order to accomplish this I will train a series of models with different regularisation techniques and record the loss and validation error which will be applied to the final model.\n",
    "\n",
    "In this section I will examine the effects of L1, L2 and dropout methods of regularisation."
   ]
  },
  {
   "cell_type": "code",
   "execution_count": 19,
   "metadata": {
    "scrolled": false
   },
   "outputs": [
    {
     "name": "stdout",
     "output_type": "stream",
     "text": [
      "Training model 1/20\n",
      "Training model 2/20\n",
      "Training model 3/20\n",
      "Training model 4/20\n",
      "Training model 5/20\n",
      "Training model 6/20\n",
      "Training model 7/20\n",
      "Training model 8/20\n",
      "Training model 9/20\n",
      "Training model 10/20\n",
      "Training model 11/20\n",
      "Training model 12/20\n",
      "Training model 13/20\n",
      "Training model 14/20\n",
      "Training model 15/20\n",
      "Training model 16/20\n",
      "Training model 17/20\n",
      "Training model 18/20\n",
      "Training model 19/20\n",
      "Training model 20/20\n",
      "Training Complete\n"
     ]
    }
   ],
   "source": [
    "# Creating a list of models with differing regularisation hyperparamters to train and validate.\n",
    "\n",
    "reg_models = [build_model(nb_layers=4, units=32, dropout=0.2),\n",
    "              build_model(nb_layers=4, units=32, dropout=0.5),\n",
    "              build_model(nb_layers=4, units=32, L1=0.001),\n",
    "              build_model(nb_layers=4, units=32, L1=0.01),\n",
    "              build_model(nb_layers=4, units=32, L2=0.001),\n",
    "              build_model(nb_layers=4, units=32, L2=0.01),\n",
    "              build_model(nb_layers=4, units=32, L2=0.001, L1=0.001),\n",
    "              build_model(nb_layers=4, units=32, L2=0.01, L1=0.01),\n",
    "              build_model(nb_layers=4, units=32, L1=0.001, dropout=0.2),\n",
    "              build_model(nb_layers=4, units=32, L1=0.01, dropout=0.2),\n",
    "              build_model(nb_layers=4, units=32, L2=0.001, dropout=0.2),\n",
    "              build_model(nb_layers=4, units=32, L2=0.01, dropout=0.2),\n",
    "              build_model(nb_layers=4, units=32, L2=0.001, L1=0.001, dropout=0.2),\n",
    "              build_model(nb_layers=4, units=32, L2=0.01, L1=0.01, dropout=0.2),\n",
    "              build_model(nb_layers=4, units=32, L1=0.001, dropout=0.5),\n",
    "              build_model(nb_layers=4, units=32, L1=0.01, dropout=0.5),\n",
    "              build_model(nb_layers=4, units=32, L2=0.001, dropout=0.5),\n",
    "              build_model(nb_layers=4, units=32, L2=0.01, dropout=0.5),\n",
    "              build_model(nb_layers=4, units=32, L2=0.001, L1=0.001, dropout=0.5),\n",
    "              build_model(nb_layers=4, units=32, L2=0.01, L1=0.01, dropout=0.5)]\n",
    "\n",
    "\n",
    "# Instantiating a dictionary to record model history.\n",
    "reg_history = {}\n",
    "\n",
    "# Looping through the model list.\n",
    "for index, model in enumerate(reg_models):\n",
    "    \n",
    "    # Track the iterations of the model list using print statements.\n",
    "    print(f'Training model {index+1}/{len(reg_models)}')\n",
    "    \n",
    "    # Train, validate and save model history to a disctionary.\n",
    "    reg_history[f'model_{index+1}'] = model.fit(X_train, y_train, \n",
    "                                                epochs=200, batch_size=64, \n",
    "                                                validation_split=.2, verbose=0)\n",
    "    \n",
    "    # Print statement once all models have completed validation.\n",
    "    if (index+1) == len(reg_models):\n",
    "        print('Training Complete')"
   ]
  },
  {
   "cell_type": "markdown",
   "metadata": {},
   "source": [
    "As before I will examine the minimum MAE errors by first creating a list with each models error, sorting the list and displaying the corresponding values in sorted order."
   ]
  },
  {
   "cell_type": "code",
   "execution_count": 20,
   "metadata": {},
   "outputs": [],
   "source": [
    "# Saving validation MAE histories to a list.\n",
    "reg_mae = [(model[0], model[1].history['val_mae']) for model in reg_history.items()]\n",
    "\n",
    "# Sorting the list by the min MAE value.\n",
    "reg_mae.sort(key=lambda x: min(x[1]))"
   ]
  },
  {
   "cell_type": "markdown",
   "metadata": {},
   "source": [
    "Using the sorted list each models minimum and avergae MAE values will be diplayed and used for selecting the optimal regularisation technique."
   ]
  },
  {
   "cell_type": "code",
   "execution_count": 21,
   "metadata": {
    "scrolled": false
   },
   "outputs": [
    {
     "name": "stdout",
     "output_type": "stream",
     "text": [
      "model_5 \n",
      "Optimal epoch: 69 \tMinimum MAE: 2409 \tAVG MAE: 3110\n",
      "\n",
      "model_8 \n",
      "Optimal epoch: 59 \tMinimum MAE: 2412 \tAVG MAE: 3056\n",
      "\n",
      "model_4 \n",
      "Optimal epoch: 48 \tMinimum MAE: 2422 \tAVG MAE: 3000\n",
      "\n",
      "model_7 \n",
      "Optimal epoch: 73 \tMinimum MAE: 2437 \tAVG MAE: 3056\n",
      "\n",
      "model_6 \n",
      "Optimal epoch: 77 \tMinimum MAE: 2706 \tAVG MAE: 3192\n",
      "\n",
      "model_10 \n",
      "Optimal epoch: 60 \tMinimum MAE: 2755 \tAVG MAE: 3550\n",
      "\n",
      "model_3 \n",
      "Optimal epoch: 92 \tMinimum MAE: 2761 \tAVG MAE: 3275\n",
      "\n",
      "model_13 \n",
      "Optimal epoch: 56 \tMinimum MAE: 2766 \tAVG MAE: 3632\n",
      "\n",
      "model_12 \n",
      "Optimal epoch: 61 \tMinimum MAE: 2781 \tAVG MAE: 3623\n",
      "\n",
      "model_14 \n",
      "Optimal epoch: 60 \tMinimum MAE: 2790 \tAVG MAE: 3600\n",
      "\n",
      "model_9 \n",
      "Optimal epoch: 59 \tMinimum MAE: 2804 \tAVG MAE: 3674\n",
      "\n",
      "model_1 \n",
      "Optimal epoch: 57 \tMinimum MAE: 2810 \tAVG MAE: 3741\n",
      "\n",
      "model_11 \n",
      "Optimal epoch: 59 \tMinimum MAE: 2851 \tAVG MAE: 3790\n",
      "\n",
      "model_17 \n",
      "Optimal epoch: 42 \tMinimum MAE: 3749 \tAVG MAE: 4867\n",
      "\n",
      "model_18 \n",
      "Optimal epoch: 45 \tMinimum MAE: 3831 \tAVG MAE: 4790\n",
      "\n",
      "model_20 \n",
      "Optimal epoch: 59 \tMinimum MAE: 3847 \tAVG MAE: 4554\n",
      "\n",
      "model_15 \n",
      "Optimal epoch: 63 \tMinimum MAE: 3857 \tAVG MAE: 4794\n",
      "\n",
      "model_16 \n",
      "Optimal epoch: 62 \tMinimum MAE: 3877 \tAVG MAE: 4900\n",
      "\n",
      "model_19 \n",
      "Optimal epoch: 55 \tMinimum MAE: 3888 \tAVG MAE: 4695\n",
      "\n",
      "model_2 \n",
      "Optimal epoch: 49 \tMinimum MAE: 4003 \tAVG MAE: 4965\n",
      "\n"
     ]
    }
   ],
   "source": [
    "# Looping through list and printing the model number, min MAE value, optimal epoch and mean MAE per model.\n",
    "\n",
    "for i in reg_mae:\n",
    "    print(f'{i[0]} \\nOptimal epoch: {np.argmin(i[1])} \\tMinimum MAE: {round(min(i[1]))} \\tAVG MAE: {round(np.mean(i[1]))}\\n')"
   ]
  },
  {
   "cell_type": "markdown",
   "metadata": {},
   "source": [
    "Judging from the ranked list it would seem that regularisation 'L2=0.001' would be optimal given that it produces the lowest MAE error. If however the mean MAE metric is prioritised then model 4 with 'L1=0.01' is the optimal regularisation parameter. \n",
    "\n",
    "The difference in the minimum MAE between both models is much smaller than the difference between the average MAE with regards to both models. Therefore I believe that 'L1=0.01' is the optimal hyperparameter as the minimum MAE can be fluctuate on each restart of the process."
   ]
  },
  {
   "cell_type": "markdown",
   "metadata": {},
   "source": [
    "### Optimal Epoch for Final Model"
   ]
  },
  {
   "cell_type": "markdown",
   "metadata": {},
   "source": [
    "In this section I will apply the best hyperparameters to the K-fold validation in order to tune the epochs for final model application.\n",
    "\n",
    "The batch size is reduced in this section as based upon multiple articles such as the effect of batch size on training and testing accuracy on 'Medium' [5] a small batch size provides higher model accuracy and improved generalisation capability. A large batch size may be used but the learning rate must be increased as a result to compensate. I believe that it is safer to use a smaller batch size with the recommended learning rate and as such learning rate hyperparameter was not tested in this project."
   ]
  },
  {
   "cell_type": "code",
   "execution_count": 59,
   "metadata": {
    "scrolled": true
   },
   "outputs": [
    {
     "name": "stdout",
     "output_type": "stream",
     "text": [
      "Fold Number 1\n",
      "Optimal Epoch: 50 \tLowest Val_MAE: 2316 \n",
      "\n",
      "Fold Number 2\n",
      "Optimal Epoch: 52 \tLowest Val_MAE: 2337 \n",
      "\n",
      "Fold Number 3\n",
      "Optimal Epoch: 32 \tLowest Val_MAE: 2474 \n",
      "\n",
      "Fold Number 4\n",
      "Optimal Epoch: 63 \tLowest Val_MAE: 2369 \n",
      "\n",
      "Training Complete\n"
     ]
    }
   ],
   "source": [
    "K = 4                   # Select number of folds.\n",
    "num_epochs = 200        # Select number of epochs\n",
    "\n",
    "all_mae_histories = []  # List for recording all fold MAE values.\n",
    "\n",
    "# Splitting the independant and dependant arrays into K folds.\n",
    "X_partition = np.array_split(X_train, K)\n",
    "y_partition = np.array_split(y_train, K)\n",
    "\n",
    "\n",
    "for i in range(K):\n",
    "    print('Fold Number', i+1)\n",
    "\n",
    "    # Prepare the validation data for independant and dependant variables: \n",
    "    X_validation = X_partition[i]\n",
    "    y_validation = y_partition[i]\n",
    "\n",
    "    # Prepare the independant feature trainig data from all other partitions not in the validation batch.\n",
    "    X_partial_train = X_partition.copy()\n",
    "    del X_partial_train[i]\n",
    "    X_partial_train = np.concatenate(X_partial_train)\n",
    "\n",
    "    # Prepare the dependant feature trainig data from all other partitions not in the validation batch.\n",
    "    y_partial_train = y_partition.copy()\n",
    "    del y_partial_train[i]\n",
    "    y_partial_train = np.concatenate(y_partial_train)\n",
    "\n",
    "    # Build the Keras model using tuned hyperparameters.\n",
    "    model = build_model(nb_layers=4, units=32, L1=0.01)\n",
    "    \n",
    "    # Train the model (in silent mode, verbose=0)\n",
    "    history = model.fit(X_partial_train, y_partial_train,\n",
    "                        validation_data=(X_validation, y_validation),\n",
    "                        epochs=num_epochs, batch_size=6, verbose=0) \n",
    "    \n",
    "    # Retrieve validation MAE from the history.\n",
    "    mae_history = history.history['val_mae']\n",
    "    \n",
    "    # Append validation MAE to list.\n",
    "    all_mae_histories.append(mae_history)\n",
    "    \n",
    "    # Print the optimal epoch and lowest MAE value per fold.\n",
    "    print('Optimal Epoch:', np.argmin(all_mae_histories[i]), '\\tLowest Val_MAE:', round(min(all_mae_histories[i]),), '\\n')\n",
    "    \n",
    "    # Print statement when all folds completed.\n",
    "    if (i+1) == K:\n",
    "        print('Training Complete')"
   ]
  },
  {
   "cell_type": "markdown",
   "metadata": {},
   "source": [
    "The k-fold validation process is complete and we can now examine the results. The MAE values are quite low, compared to the previous trainig phases due to the reduced batch size. Using these values we can visualise the MAE and select the best epoch for the final model.\n",
    "\n",
    "The fold details have been summarised below for easier visualisation."
   ]
  },
  {
   "cell_type": "code",
   "execution_count": 60,
   "metadata": {},
   "outputs": [
    {
     "name": "stdout",
     "output_type": "stream",
     "text": [
      "Fold: 1 \tOptimal Epoch: 50 \tLowest Val_MAE: 2316.02\n",
      "Fold: 2 \tOptimal Epoch: 52 \tLowest Val_MAE: 2337.01\n",
      "Fold: 3 \tOptimal Epoch: 32 \tLowest Val_MAE: 2473.5\n",
      "Fold: 4 \tOptimal Epoch: 63 \tLowest Val_MAE: 2369.07\n"
     ]
    }
   ],
   "source": [
    "for i in range(len(all_mae_histories)):\n",
    "    print(f'Fold: {i+1} \\tOptimal Epoch: {np.argmin(all_mae_histories[i])} \\tLowest Val_MAE: {round(min(all_mae_histories[i]),2)}')"
   ]
  },
  {
   "cell_type": "markdown",
   "metadata": {},
   "source": [
    "### Visualising the Training Process and Selecting the Optimal Epoch"
   ]
  },
  {
   "cell_type": "markdown",
   "metadata": {},
   "source": [
    "The MAE histories will be visualised to understand the pattern behind the convergence process. Finally using this information we can make an educated selection for the most optimal epoch for the final model."
   ]
  },
  {
   "cell_type": "markdown",
   "metadata": {},
   "source": [
    "Code below is taken from Deep Learning with Python by François Chollet, 2021. [2]"
   ]
  },
  {
   "cell_type": "code",
   "execution_count": 61,
   "metadata": {},
   "outputs": [
    {
     "data": {
      "image/png": "[encoded data removed]",
      "text/plain": [
       "<Figure size 432x288 with 1 Axes>"
      ]
     },
     "metadata": {
      "needs_background": "light"
     },
     "output_type": "display_data"
    }
   ],
   "source": [
    "history_dict = history.history\n",
    "\n",
    "average_mae_history = [np.mean([x[i] for x in all_mae_histories])for i in range(num_epochs)]\n",
    "\n",
    "plt.plot(range(1, len(average_mae_history) + 1), average_mae_history)\n",
    "plt.xlabel('Epochs')\n",
    "plt.ylabel('Validation MAE')\n",
    "plt.grid(True)\n",
    "plt.show()"
   ]
  },
  {
   "cell_type": "markdown",
   "metadata": {},
   "source": [
    "To make the visualisation easier to interpret the smooth curve fuction will be employed."
   ]
  },
  {
   "cell_type": "markdown",
   "metadata": {},
   "source": [
    "Code below is taken from Deep Learning with Python by François Chollet, 2021. [2]"
   ]
  },
  {
   "cell_type": "code",
   "execution_count": 62,
   "metadata": {},
   "outputs": [],
   "source": [
    "def smooth_curve(points, factor = 0.9):\n",
    "    smoothed_points = []\n",
    "    for point in points:\n",
    "        if smoothed_points: # an empty list is 'False'\n",
    "            previous = smoothed_points[-1] # the last appended point\n",
    "            smoothed_points.append(previous * factor + point * (1 - factor))\n",
    "        else:\n",
    "            smoothed_points.append(point)\n",
    "    return smoothed_points"
   ]
  },
  {
   "cell_type": "code",
   "execution_count": 63,
   "metadata": {},
   "outputs": [
    {
     "data": {
      "image/png": "[encoded data removed]",
      "text/plain": [
       "<Figure size 432x288 with 1 Axes>"
      ]
     },
     "metadata": {
      "needs_background": "light"
     },
     "output_type": "display_data"
    }
   ],
   "source": [
    "smooth_mae_history = smooth_curve(average_mae_history[10:])\n",
    "plt.plot(range(1, len(smooth_mae_history) + 1), smooth_mae_history)\n",
    "plt.xlabel('Epochs')\n",
    "plt.ylabel('Validation MAE')\n",
    "plt.show()"
   ]
  },
  {
   "cell_type": "markdown",
   "metadata": {},
   "source": [
    "We can clearly discern that the optimal epoch lies somewhere between epoch 40 and 50 based upon the smooth MAE curve."
   ]
  },
  {
   "cell_type": "code",
   "execution_count": 64,
   "metadata": {
    "scrolled": true
   },
   "outputs": [
    {
     "name": "stdout",
     "output_type": "stream",
     "text": [
      "The optimal epoch is: 51\n"
     ]
    }
   ],
   "source": [
    "print(f'The optimal epoch is: {np.argmin(average_mae_history)}')"
   ]
  },
  {
   "cell_type": "markdown",
   "metadata": {},
   "source": [
    "Using this information we can now train our final model which will be used to predict the test set."
   ]
  },
  {
   "cell_type": "markdown",
   "metadata": {},
   "source": [
    "## Final Model Results\n",
    "\n",
    "### Evaluation"
   ]
  },
  {
   "cell_type": "markdown",
   "metadata": {},
   "source": [
    "The final model is built using the tuned hyperparameters and trained for the optimal epochs as previously defined."
   ]
  },
  {
   "cell_type": "code",
   "execution_count": 26,
   "metadata": {
    "scrolled": true
   },
   "outputs": [],
   "source": [
    "# Building a model with tuned hyperparameters on the whole training set.\n",
    "\n",
    "model = build_model(nb_layers=4, units=32, L1=0.01)\n",
    "history = model.fit(X_train, y_train,\n",
    "                    epochs=51, \n",
    "                    batch_size=6, \n",
    "                    verbose=0)"
   ]
  },
  {
   "cell_type": "markdown",
   "metadata": {},
   "source": [
    "Finally it is time to evaluate the model on the test set."
   ]
  },
  {
   "cell_type": "code",
   "execution_count": 27,
   "metadata": {
    "scrolled": true
   },
   "outputs": [
    {
     "name": "stdout",
     "output_type": "stream",
     "text": [
      "59/59 [==============================] - 0s 1ms/step - loss: 16551030.0000 - mae: 2249.6367\n",
      "MAE - $2249.64\n"
     ]
    }
   ],
   "source": [
    "# Evaluating the model on the test set.\n",
    "\n",
    "test_mse_score, test_mae_score = model.evaluate(X_test, y_test)\n",
    "\n",
    "print(f'MAE - ${round(test_mae_score,2)}')"
   ]
  },
  {
   "cell_type": "markdown",
   "metadata": {},
   "source": [
    "Our model error is provided above, which is the average absolute error of the prediction against the actual price of the vehicle. Interestingly the MAE falls inline with the previous validation MAE errors which implies that the regularisation process was effective."
   ]
  },
  {
   "cell_type": "markdown",
   "metadata": {},
   "source": [
    "### Prediction"
   ]
  },
  {
   "cell_type": "markdown",
   "metadata": {},
   "source": [
    "Lastly, to put it all in perspective I will use the model to predict the values of the test set and visualise the results. "
   ]
  },
  {
   "cell_type": "code",
   "execution_count": 28,
   "metadata": {},
   "outputs": [],
   "source": [
    "# Predicting the model on the test set.\n",
    "\n",
    "y_pred = model.predict(X_test)"
   ]
  },
  {
   "cell_type": "markdown",
   "metadata": {},
   "source": [
    "Using these predictions we can create a new dataframe to visualise the errors and predictions made by the model against the actual values."
   ]
  },
  {
   "cell_type": "code",
   "execution_count": 35,
   "metadata": {
    "scrolled": true
   },
   "outputs": [
    {
     "data": {
      "text/html": [
       "<div>\n",
       "<style scoped>\n",
       "    .dataframe tbody tr th:only-of-type {\n",
       "        vertical-align: middle;\n",
       "    }\n",
       "\n",
       "    .dataframe tbody tr th {\n",
       "        vertical-align: top;\n",
       "    }\n",
       "\n",
       "    .dataframe thead th {\n",
       "        text-align: right;\n",
       "    }\n",
       "</style>\n",
       "<table border=\"1\" class=\"dataframe\">\n",
       "  <thead>\n",
       "    <tr style=\"text-align: right;\">\n",
       "      <th></th>\n",
       "      <th>Actual</th>\n",
       "      <th>Prediction</th>\n",
       "      <th>Error</th>\n",
       "    </tr>\n",
       "  </thead>\n",
       "  <tbody>\n",
       "    <tr>\n",
       "      <th>0</th>\n",
       "      <td>20888.0</td>\n",
       "      <td>18043.189453</td>\n",
       "      <td>2844.810547</td>\n",
       "    </tr>\n",
       "    <tr>\n",
       "      <th>1</th>\n",
       "      <td>64995.0</td>\n",
       "      <td>53425.300781</td>\n",
       "      <td>11569.699219</td>\n",
       "    </tr>\n",
       "    <tr>\n",
       "      <th>2</th>\n",
       "      <td>38995.0</td>\n",
       "      <td>37884.324219</td>\n",
       "      <td>1110.675781</td>\n",
       "    </tr>\n",
       "    <tr>\n",
       "      <th>3</th>\n",
       "      <td>13931.0</td>\n",
       "      <td>15658.670898</td>\n",
       "      <td>-1727.670898</td>\n",
       "    </tr>\n",
       "    <tr>\n",
       "      <th>4</th>\n",
       "      <td>34888.0</td>\n",
       "      <td>29922.720703</td>\n",
       "      <td>4965.279297</td>\n",
       "    </tr>\n",
       "    <tr>\n",
       "      <th>5</th>\n",
       "      <td>52995.0</td>\n",
       "      <td>130959.914062</td>\n",
       "      <td>-77964.914062</td>\n",
       "    </tr>\n",
       "    <tr>\n",
       "      <th>6</th>\n",
       "      <td>19488.0</td>\n",
       "      <td>21830.927734</td>\n",
       "      <td>-2342.927734</td>\n",
       "    </tr>\n",
       "    <tr>\n",
       "      <th>7</th>\n",
       "      <td>4499.0</td>\n",
       "      <td>4671.991699</td>\n",
       "      <td>-172.991699</td>\n",
       "    </tr>\n",
       "    <tr>\n",
       "      <th>8</th>\n",
       "      <td>33699.0</td>\n",
       "      <td>38330.726562</td>\n",
       "      <td>-4631.726562</td>\n",
       "    </tr>\n",
       "    <tr>\n",
       "      <th>9</th>\n",
       "      <td>16495.0</td>\n",
       "      <td>17244.339844</td>\n",
       "      <td>-749.339844</td>\n",
       "    </tr>\n",
       "  </tbody>\n",
       "</table>\n",
       "</div>"
      ],
      "text/plain": [
       "    Actual     Prediction         Error\n",
       "0  20888.0   18043.189453   2844.810547\n",
       "1  64995.0   53425.300781  11569.699219\n",
       "2  38995.0   37884.324219   1110.675781\n",
       "3  13931.0   15658.670898  -1727.670898\n",
       "4  34888.0   29922.720703   4965.279297\n",
       "5  52995.0  130959.914062 -77964.914062\n",
       "6  19488.0   21830.927734  -2342.927734\n",
       "7   4499.0    4671.991699   -172.991699\n",
       "8  33699.0   38330.726562  -4631.726562\n",
       "9  16495.0   17244.339844   -749.339844"
      ]
     },
     "execution_count": 35,
     "metadata": {},
     "output_type": "execute_result"
    }
   ],
   "source": [
    "# Saving results to a dataframe with appropriate column names.\n",
    "results = pd.DataFrame(y_pred, y_test, columns=['Prediction']).reset_index().rename({'index': 'Actual'}, axis=1)\n",
    "\n",
    "# Creating new column for errors.\n",
    "results['Error'] = results['Actual'] - results['Prediction']\n",
    "\n",
    "# Examine dataframe.\n",
    "results.head(10)"
   ]
  },
  {
   "cell_type": "markdown",
   "metadata": {},
   "source": [
    "The model can be quite accurate for certain entries and fairly innacurate for others. I will use a hist plot to visualise the error distribution. In addition to the visualisation It would be worthwhile to check the basic statistical breakdown of the errors. "
   ]
  },
  {
   "cell_type": "code",
   "execution_count": 65,
   "metadata": {},
   "outputs": [
    {
     "data": {
      "image/png": "[encoded data removed]",
      "text/plain": [
       "<Figure size 720x576 with 1 Axes>"
      ]
     },
     "metadata": {
      "needs_background": "light"
     },
     "output_type": "display_data"
    }
   ],
   "source": [
    "# Using distplot to visualise errors.\n",
    "\n",
    "results['Error'].hist(bins=100, figsize=(10, 8), color='blue', edgecolor='red', grid=True)\n",
    "\n",
    "plt.show()"
   ]
  },
  {
   "cell_type": "code",
   "execution_count": 85,
   "metadata": {},
   "outputs": [
    {
     "name": "stdout",
     "output_type": "stream",
     "text": [
      "The Minimum Error: \t$0.04\n",
      "The Maximum Error: \t$77964.91\n",
      "The Average Error: \t$2249.64\n",
      "The 1st Quartile Error: $677.57\n",
      "The Median Error: \t$1442.89\n",
      "The 3rd Quartile Error: $2787.46\n",
      "The Standard Deviation: $3390.61\n"
     ]
    }
   ],
   "source": [
    "print(f\"The Minimum Error: \\t${round(results['Error'].abs().min(),2)}\")\n",
    "print(f\"The Maximum Error: \\t${round(results['Error'].abs().max(),2)}\")\n",
    "print(f\"The Average Error: \\t${round(results['Error'].abs().mean(),2)}\")\n",
    "print(f\"The 1st Quartile Error: ${round(results['Error'].abs().quantile(0.25),2)}\")\n",
    "print(f\"The Median Error: \\t${round(results['Error'].abs().median(),2)}\")\n",
    "print(f\"The 3rd Quartile Error: ${round(results['Error'].abs().quantile(0.75),2)}\")\n",
    "print(f\"The Standard Deviation: ${round(results['Error'].abs().std(),2)}\")"
   ]
  },
  {
   "cell_type": "markdown",
   "metadata": {},
   "source": [
    "The histogram shows that most errors congregate around zero which is as expected. Surprisingly the smallest error was an almost perfect prediction of the actual price.\n",
    "\n",
    "From the graph we can also discern that the network undervalued vehicles to a higher degree than it has overvalued. The largest absolute errors are also very large when compared to the error distribution. \n",
    "\n",
    "The data behind these large errors should be further examined as there may be an underlying issue with the training data which led to abnormal error values. This is further reinforced by the considerably lower median, by roughly $1,000, than the mean value which is influenced by these large errors."
   ]
  },
  {
   "cell_type": "code",
   "execution_count": 86,
   "metadata": {},
   "outputs": [
    {
     "data": {
      "image/png": "[encoded data removed]",
      "text/plain": [
       "<Figure size 1296x576 with 1 Axes>"
      ]
     },
     "metadata": {
      "needs_background": "light"
     },
     "output_type": "display_data"
    }
   ],
   "source": [
    "# Examining the actual and predicted values for the first 30 vehicles in the dataframe.\n",
    "\n",
    "results[['Actual', 'Prediction']][:30].plot(kind='bar',figsize=(18,8))\n",
    "plt.grid(which='major', linestyle='-', linewidth='0.5', color='blue')\n",
    "plt.grid(which='minor', linestyle=':', linewidth='0.5', color='green')\n",
    "\n",
    "plt.show()"
   ]
  },
  {
   "cell_type": "markdown",
   "metadata": {},
   "source": [
    "## Conclusion"
   ]
  },
  {
   "cell_type": "markdown",
   "metadata": {},
   "source": [
    "The goal of this project was to develope a balanced model with a low bias and low variance. I believe, having examined the tuned models performance, that this objective has been achieved. The final model has performed reasonably well, especially when the median error value is observed.\n",
    "\n",
    "There is room for improvement however, without a doubt. There are a number of high error values which need to be adressed. I believe that there could exist an issue with the training data which the model was unable to accurately learn. Had I more time and the ability to re-do this project I would examine all the high error values and determine whether they are somehow related or whether the model simply did not have enough training data for this type of vehicle.\n",
    "\n",
    "One possible issue with this project is the long training period for validating multiple hyperparameters, combined with the k-fold epoch testing. I understand that in a real life scenario this would be impractical. This is further reiterated by the fact that only 20k rows were used from the original 3 million. Even with such a small dataset training periods are long on standard hardware.\n",
    "\n",
    "Another potential issue is that the high number of hyperparameter tests upon the validation set could result in data leakage. While I do not suspect that the model suffers from this as the error values have remianed consistent with the test errors it may have influenced the optimal hyperparameter selection and I wonder whether a different train\\test split would result in a different series of top 5 models. This issue could be counteracted with more training data.\n",
    "\n",
    "\n",
    "##### How to improve model performance.\n",
    "\n",
    "The obvious way to improve the models cability to predict is to use more data. While I would have relished the opprtunity to use all 3 million entries for model training it was not feasible on my current PC. However in a real life scenario the entirety of the data should be used for training/testing.\n",
    "\n",
    "The larger dataset would have also improved the data scaling process on the testing set, as the parameters used for training were used to scale the test set. The critical point here is normalisations requirement for the accurate maximum and minimum values, which would have improved the accuracy of these values and better generalise on unseen data.\n",
    "\n",
    "Lastly, through configuration of the batch size it is possible to achieve improvements to the bias and variance of the model. As previously mentioned in the Medium article [5] the batch size has a noticiable effect on model capability and I can verify these claims through my own experimentation. A large batch size would significantly increase the neuron requirement for low bias. In my experiments upon this dataset a batch size of 512 would result in neurons of 124-512 to be selected as the optimal values. When decreasing the batch size to 64, the corresponding optimal neuron count fell to a range 16-64. From these finding I can conclude that a batch size of 1 will result in the most optimal model training. This would however take a considerably long time and is impractical even on a small dataset such as this."
   ]
  },
  {
   "cell_type": "markdown",
   "metadata": {},
   "source": [
    "## References"
   ]
  },
  {
   "cell_type": "markdown",
   "metadata": {},
   "source": [
    "[1] Kaggle.com. 2021. US Used cars dataset. [online] Available at: <https://www.kaggle.com/ananaymital/us-used-cars-dataset> [Accessed 5 December 2021].\n",
    "\n",
    "[2] CHOLLET, F., 2021. DEEP LEARNING WITH PYTHON. [S.l.]: O'REILLY MEDIA.\n",
    "\n",
    "[3] Brownlee, J., 2021. How to use Data Scaling Improve Deep Learning Model Stability and Performance. [online] Machine Learning Mastery. Available at: <https://machinelearningmastery.com/how-to-improve-neural-network-stability-and-modeling-performance-with-data-scaling/> [Accessed 5 December 2021].\n",
    "\n",
    "[4] analysis?, I., Collins, J. and Wittmann, F., 2021. Is it necessary to scale the target value in addition to scaling features for regression analysis?. [online] Cross Validated. Available at: <https://stats.stackexchange.com/questions/111467/is-it-necessary-to-scale-the-target-value-in-addition-to-scaling-features-for-re> [Accessed 5 December 2021].\n",
    "\n",
    "[5] Medium. 2021. Effect of batch size on training dynamics. [online] Available at: <https://medium.com/mini-distill/effect-of-batch-size-on-training-dynamics-21c14f7a716e> [Accessed 5 December 2021]."
   ]
  }
 ],
 "metadata": {
  "kernelspec": {
   "display_name": "Python 3",
   "language": "python",
   "name": "python3"
  },
  "language_info": {
   "codemirror_mode": {
    "name": "ipython",
    "version": 3
   },
   "file_extension": ".py",
   "mimetype": "text/x-python",
   "name": "python",
   "nbconvert_exporter": "python",
   "pygments_lexer": "ipython3",
   "version": "3.8.5"
  }
 },
 "nbformat": 4,
 "nbformat_minor": 4
}
